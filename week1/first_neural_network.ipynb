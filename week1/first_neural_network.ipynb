{
  "nbformat": 4,
  "nbformat_minor": 0,
  "metadata": {
    "colab": {
      "name": "Course 1 - Part 2 - Lesson 2 - Notebook.ipynb",
      "provenance": [],
      "toc_visible": true
    },
    "kernelspec": {
      "display_name": "Python 3.6.9 64-bit",
      "name": "python36964bitd13ab4ac16fd4c69943c04fba9244044"
    }
  },
  "cells": [
    {
      "cell_type": "markdown",
      "metadata": {
        "colab_type": "text",
        "id": "ZIAkIlfmCe1B"
      },
      "source": [
        "# The Hello World of Deep Learning with Neural Networks\n",
        "### Anderson Laverde Gracia"
      ]
    },
    {
      "cell_type": "markdown",
      "metadata": {
        "colab_type": "text",
        "id": "fA93WUy1zzWf"
      },
      "source": [
        "Like every first app you should start with something super simple that shows the overall scaffolding for how your code works. \n",
        "\n",
        "In the case of creating neural networks, the sample I like to use is one where it learns the relationship between two numbers. So, for example, if you were writing code for a function like this, you already know the 'rules' — \n",
        "\n",
        "\n",
        "```\n",
        "float hw_function(float x){\n",
        "    float y = (2 * x) - 1;\n",
        "    return y;\n",
        "}\n",
        "```\n",
        "\n",
        "So how would you train a neural network to do the equivalent task? Using data! By feeding it with a set of Xs, and a set of Ys, it should be able to figure out the relationship between them. \n",
        "\n",
        "This is obviously a very different paradigm than what you might be used to, so let's step through it piece by piece.\n"
      ]
    },
    {
      "cell_type": "markdown",
      "metadata": {
        "colab_type": "text",
        "id": "DzbtdRcZDO9B"
      },
      "source": [
        "## Imports\n",
        "\n",
        "Let's start with our imports. Here we are importing TensorFlow and calling it tf for ease of use.\n",
        "\n",
        "We then import a library called numpy, which helps us to represent our data as lists easily and quickly.\n",
        "\n",
        "The framework for defining a neural network as a set of Sequential layers is called keras, so we import that too."
      ]
    },
    {
      "cell_type": "code",
      "metadata": {
        "colab_type": "code",
        "id": "X9uIpOS2zx7k",
        "colab": {}
      },
      "source": [
        "import tensorflow as tf\n",
        "import numpy as np\n",
        "from tensorflow import keras"
      ],
      "execution_count": 2,
      "outputs": []
    },
    {
      "cell_type": "markdown",
      "metadata": {
        "colab_type": "text",
        "id": "wwJGmDrQ0EoB"
      },
      "source": [
        "## Define and Compile the Neural Network\n",
        "\n",
        "Next we will create the simplest possible neural network. It has 1 layer, and that layer has 1 neuron, and the input shape to it is just 1 value."
      ]
    },
    {
      "cell_type": "code",
      "metadata": {
        "colab_type": "code",
        "id": "kQFAr_xo0M4T",
        "colab": {}
      },
      "source": [
        "model = tf.keras.Sequential([keras.layers.Dense(units=1, input_shape=[1])])"
      ],
      "execution_count": 3,
      "outputs": []
    },
    {
      "cell_type": "markdown",
      "metadata": {
        "colab_type": "text",
        "id": "KhjZjZ-c0Ok9"
      },
      "source": [
        "Now we compile our Neural Network. When we do so, we have to specify 2 functions, a loss and an optimizer.\n",
        "\n",
        "If you've seen lots of math for machine learning, here's where it's usually used, but in this case it's nicely encapsulated in functions for you. But what happens here — let's explain...\n",
        "\n",
        "We know that in our function, the relationship between the numbers is y=2x-1. \n",
        "\n",
        "When the computer is trying to 'learn' that, it makes a guess...maybe y=10x+10. The LOSS function measures the guessed answers against the known correct answers and measures how well or how badly it did.\n",
        "\n",
        "It then uses the OPTIMIZER function to make another guess. Based on how the loss function went, it will try to minimize the loss. At that point maybe it will come up with somehting like y=5x+5, which, while still pretty bad, is closer to the correct result (i.e. the loss is lower)\n",
        "\n",
        "It will repeat this for the number of EPOCHS which you will see shortly. But first, here's how we tell it to use 'MEAN SQUARED ERROR' for the loss and 'STOCHASTIC GRADIENT DESCENT' for the optimizer. You don't need to understand the math for these yet, but you can see that they work! :)\n",
        "\n",
        "Over time you will learn the different and appropriate loss and optimizer functions for different scenarios. \n"
      ]
    },
    {
      "cell_type": "code",
      "metadata": {
        "colab_type": "code",
        "id": "m8YQN1H41L-Y",
        "colab": {}
      },
      "source": [
        "model.compile(optimizer='sgd', loss='mean_squared_error')"
      ],
      "execution_count": 4,
      "outputs": []
    },
    {
      "cell_type": "markdown",
      "metadata": {
        "colab_type": "text",
        "id": "5QyOUhFw1OUX"
      },
      "source": [
        "## Providing the Data\n",
        "\n",
        "Next up we'll feed in some data. In this case we are taking 6 xs and 6ys. You can see that the relationship between these is that y=2x-1, so where x = -1, y=-3 etc. etc. \n",
        "\n",
        "A python library called 'Numpy' provides lots of array type data structures that are a defacto standard way of doing it. We declare that we want to use these by specifying the values as an np.array[]"
      ]
    },
    {
      "cell_type": "code",
      "metadata": {
        "colab_type": "code",
        "id": "4Dxk4q-jzEy4",
        "colab": {}
      },
      "source": [
        "xs = np.array([-1.0,  0.0, 1.0, 2.0, 3.0, 4.0], dtype=float)\n",
        "ys = np.array([-3.0, -1.0, 1.0, 3.0, 5.0, 7.0], dtype=float)"
      ],
      "execution_count": 5,
      "outputs": []
    },
    {
      "cell_type": "markdown",
      "metadata": {
        "colab_type": "text",
        "id": "n_YcWRElnM_b"
      },
      "source": [
        "# Training the Neural Network"
      ]
    },
    {
      "cell_type": "markdown",
      "metadata": {
        "colab_type": "text",
        "id": "c-Jk4dG91dvD"
      },
      "source": [
        "The process of training the neural network, where it 'learns' the relationship between the Xs and Ys is in the **model.fit**  call. This is where it will go through the loop we spoke about above, making a guess, measuring how good or bad it is (aka the loss), using the opimizer to make another guess etc. It will do it for the number of epochs you specify. When you run this code, you'll see the loss on the right hand side."
      ]
    },
    {
      "cell_type": "code",
      "metadata": {
        "colab_type": "code",
        "id": "lpRrl7WK10Pq",
        "colab": {},
        "tags": [
          "outputPrepend"
        ]
      },
      "source": [
        "model.fit(xs, ys, epochs=500)"
      ],
      "execution_count": 10,
      "outputs": [
        {
          "output_type": "stream",
          "name": "stdout",
          "text": "=============================] - 0s 1ms/step - loss: 1.1576e-07\nEpoch 268/500\n1/1 [==============================] - 0s 1ms/step - loss: 1.1338e-07\nEpoch 269/500\n1/1 [==============================] - 0s 967us/step - loss: 1.1102e-07\nEpoch 270/500\n1/1 [==============================] - 0s 2ms/step - loss: 1.0880e-07\nEpoch 271/500\n1/1 [==============================] - 0s 911us/step - loss: 1.0652e-07\nEpoch 272/500\n1/1 [==============================] - 0s 1ms/step - loss: 1.0438e-07\nEpoch 273/500\n1/1 [==============================] - 0s 1ms/step - loss: 1.0219e-07\nEpoch 274/500\n1/1 [==============================] - 0s 1ms/step - loss: 1.0012e-07\nEpoch 275/500\n1/1 [==============================] - 0s 883us/step - loss: 9.8059e-08\nEpoch 276/500\n1/1 [==============================] - 0s 1ms/step - loss: 9.6037e-08\nEpoch 277/500\n1/1 [==============================] - 0s 3ms/step - loss: 9.4078e-08\nEpoch 278/500\n1/1 [==============================] - 0s 994us/step - loss: 9.2116e-08\nEpoch 279/500\n1/1 [==============================] - 0s 1ms/step - loss: 9.0251e-08\nEpoch 280/500\n1/1 [==============================] - 0s 946us/step - loss: 8.8403e-08\nEpoch 281/500\n1/1 [==============================] - 0s 2ms/step - loss: 8.6570e-08\nEpoch 282/500\n1/1 [==============================] - 0s 951us/step - loss: 8.4809e-08\nEpoch 283/500\n1/1 [==============================] - 0s 1ms/step - loss: 8.3065e-08\nEpoch 284/500\n1/1 [==============================] - 0s 832us/step - loss: 8.1375e-08\nEpoch 285/500\n1/1 [==============================] - 0s 859us/step - loss: 7.9693e-08\nEpoch 286/500\n1/1 [==============================] - 0s 868us/step - loss: 7.8061e-08\nEpoch 287/500\n1/1 [==============================] - 0s 898us/step - loss: 7.6466e-08\nEpoch 288/500\n1/1 [==============================] - 0s 901us/step - loss: 7.4903e-08\nEpoch 289/500\n1/1 [==============================] - 0s 828us/step - loss: 7.3347e-08\nEpoch 290/500\n1/1 [==============================] - 0s 934us/step - loss: 7.1855e-08\nEpoch 291/500\n1/1 [==============================] - 0s 651us/step - loss: 7.0402e-08\nEpoch 292/500\n1/1 [==============================] - 0s 643us/step - loss: 6.8926e-08\nEpoch 293/500\n1/1 [==============================] - 0s 678us/step - loss: 6.7505e-08\nEpoch 294/500\n1/1 [==============================] - 0s 708us/step - loss: 6.6111e-08\nEpoch 295/500\n1/1 [==============================] - 0s 1ms/step - loss: 6.4766e-08\nEpoch 296/500\n1/1 [==============================] - 0s 1ms/step - loss: 6.3442e-08\nEpoch 297/500\n1/1 [==============================] - 0s 968us/step - loss: 6.2154e-08\nEpoch 298/500\n1/1 [==============================] - 0s 1ms/step - loss: 6.0870e-08\nEpoch 299/500\n1/1 [==============================] - 0s 664us/step - loss: 5.9602e-08\nEpoch 300/500\n1/1 [==============================] - 0s 1ms/step - loss: 5.8404e-08\nEpoch 301/500\n1/1 [==============================] - 0s 629us/step - loss: 5.7224e-08\nEpoch 302/500\n1/1 [==============================] - 0s 1ms/step - loss: 5.6048e-08\nEpoch 303/500\n1/1 [==============================] - 0s 741us/step - loss: 5.4895e-08\nEpoch 304/500\n1/1 [==============================] - 0s 611us/step - loss: 5.3758e-08\nEpoch 305/500\n1/1 [==============================] - 0s 1ms/step - loss: 5.2656e-08\nEpoch 306/500\n1/1 [==============================] - 0s 1ms/step - loss: 5.1540e-08\nEpoch 307/500\n1/1 [==============================] - 0s 1ms/step - loss: 5.0517e-08\nEpoch 308/500\n1/1 [==============================] - 0s 1ms/step - loss: 4.9446e-08\nEpoch 309/500\n1/1 [==============================] - 0s 909us/step - loss: 4.8466e-08\nEpoch 310/500\n1/1 [==============================] - 0s 609us/step - loss: 4.7451e-08\nEpoch 311/500\n1/1 [==============================] - 0s 707us/step - loss: 4.6500e-08\nEpoch 312/500\n1/1 [==============================] - 0s 1ms/step - loss: 4.5528e-08\nEpoch 313/500\n1/1 [==============================] - 0s 738us/step - loss: 4.4587e-08\nEpoch 314/500\n1/1 [==============================] - 0s 672us/step - loss: 4.3677e-08\nEpoch 315/500\n1/1 [==============================] - 0s 744us/step - loss: 4.2776e-08\nEpoch 316/500\n1/1 [==============================] - 0s 1ms/step - loss: 4.1905e-08\nEpoch 317/500\n1/1 [==============================] - 0s 1ms/step - loss: 4.1063e-08\nEpoch 318/500\n1/1 [==============================] - 0s 941us/step - loss: 4.0219e-08\nEpoch 319/500\n1/1 [==============================] - 0s 648us/step - loss: 3.9369e-08\nEpoch 320/500\n1/1 [==============================] - 0s 1ms/step - loss: 3.8591e-08\nEpoch 321/500\n1/1 [==============================] - 0s 787us/step - loss: 3.7797e-08\nEpoch 322/500\n1/1 [==============================] - 0s 1ms/step - loss: 3.7013e-08\nEpoch 323/500\n1/1 [==============================] - 0s 1ms/step - loss: 3.6271e-08\nEpoch 324/500\n1/1 [==============================] - 0s 611us/step - loss: 3.5507e-08\nEpoch 325/500\n1/1 [==============================] - 0s 1ms/step - loss: 3.4786e-08\nEpoch 326/500\n1/1 [==============================] - 0s 826us/step - loss: 3.4071e-08\nEpoch 327/500\n1/1 [==============================] - 0s 703us/step - loss: 3.3385e-08\nEpoch 328/500\n1/1 [==============================] - 0s 918us/step - loss: 3.2690e-08\nEpoch 329/500\n1/1 [==============================] - 0s 746us/step - loss: 3.2013e-08\nEpoch 330/500\n1/1 [==============================] - 0s 697us/step - loss: 3.1345e-08\nEpoch 331/500\n1/1 [==============================] - 0s 650us/step - loss: 3.0713e-08\nEpoch 332/500\n1/1 [==============================] - 0s 2ms/step - loss: 3.0066e-08\nEpoch 333/500\n1/1 [==============================] - 0s 709us/step - loss: 2.9472e-08\nEpoch 334/500\n1/1 [==============================] - 0s 792us/step - loss: 2.8872e-08\nEpoch 335/500\n1/1 [==============================] - 0s 802us/step - loss: 2.8272e-08\nEpoch 336/500\n1/1 [==============================] - 0s 975us/step - loss: 2.7713e-08\nEpoch 337/500\n1/1 [==============================] - 0s 2ms/step - loss: 2.7132e-08\nEpoch 338/500\n1/1 [==============================] - 0s 622us/step - loss: 2.6566e-08\nEpoch 339/500\n1/1 [==============================] - 0s 663us/step - loss: 2.6028e-08\nEpoch 340/500\n1/1 [==============================] - 0s 643us/step - loss: 2.5498e-08\nEpoch 341/500\n1/1 [==============================] - 0s 728us/step - loss: 2.4981e-08\nEpoch 342/500\n1/1 [==============================] - 0s 719us/step - loss: 2.4474e-08\nEpoch 343/500\n1/1 [==============================] - 0s 773us/step - loss: 2.3965e-08\nEpoch 344/500\n1/1 [==============================] - 0s 581us/step - loss: 2.3464e-08\nEpoch 345/500\n1/1 [==============================] - 0s 723us/step - loss: 2.2977e-08\nEpoch 346/500\n1/1 [==============================] - 0s 2ms/step - loss: 2.2497e-08\nEpoch 347/500\n1/1 [==============================] - 0s 761us/step - loss: 2.2052e-08\nEpoch 348/500\n1/1 [==============================] - 0s 799us/step - loss: 2.1603e-08\nEpoch 349/500\n1/1 [==============================] - 0s 872us/step - loss: 2.1154e-08\nEpoch 350/500\n1/1 [==============================] - 0s 621us/step - loss: 2.0720e-08\nEpoch 351/500\n1/1 [==============================] - 0s 873us/step - loss: 2.0315e-08\nEpoch 352/500\n1/1 [==============================] - 0s 648us/step - loss: 1.9890e-08\nEpoch 353/500\n1/1 [==============================] - 0s 695us/step - loss: 1.9472e-08\nEpoch 354/500\n1/1 [==============================] - 0s 2ms/step - loss: 1.9088e-08\nEpoch 355/500\n1/1 [==============================] - 0s 853us/step - loss: 1.8679e-08\nEpoch 356/500\n1/1 [==============================] - 0s 628us/step - loss: 1.8306e-08\nEpoch 357/500\n1/1 [==============================] - 0s 678us/step - loss: 1.7942e-08\nEpoch 358/500\n1/1 [==============================] - 0s 808us/step - loss: 1.7554e-08\nEpoch 359/500\n1/1 [==============================] - 0s 611us/step - loss: 1.7197e-08\nEpoch 360/500\n1/1 [==============================] - 0s 634us/step - loss: 1.6840e-08\nEpoch 361/500\n1/1 [==============================] - 0s 742us/step - loss: 1.6495e-08\nEpoch 362/500\n1/1 [==============================] - 0s 615us/step - loss: 1.6173e-08\nEpoch 363/500\n1/1 [==============================] - 0s 663us/step - loss: 1.5831e-08\nEpoch 364/500\n1/1 [==============================] - 0s 907us/step - loss: 1.5500e-08\nEpoch 365/500\n1/1 [==============================] - 0s 666us/step - loss: 1.5188e-08\nEpoch 366/500\n1/1 [==============================] - 0s 706us/step - loss: 1.4865e-08\nEpoch 367/500\n1/1 [==============================] - 0s 715us/step - loss: 1.4551e-08\nEpoch 368/500\n1/1 [==============================] - 0s 632us/step - loss: 1.4270e-08\nEpoch 369/500\n1/1 [==============================] - 0s 1ms/step - loss: 1.3984e-08\nEpoch 370/500\n1/1 [==============================] - 0s 2ms/step - loss: 1.3691e-08\nEpoch 371/500\n1/1 [==============================] - 0s 835us/step - loss: 1.3401e-08\nEpoch 372/500\n1/1 [==============================] - 0s 642us/step - loss: 1.3124e-08\nEpoch 373/500\n1/1 [==============================] - 0s 948us/step - loss: 1.2867e-08\nEpoch 374/500\n1/1 [==============================] - 0s 785us/step - loss: 1.2612e-08\nEpoch 375/500\n1/1 [==============================] - 0s 665us/step - loss: 1.2347e-08\nEpoch 376/500\n1/1 [==============================] - 0s 823us/step - loss: 1.2105e-08\nEpoch 377/500\n1/1 [==============================] - 0s 4ms/step - loss: 1.1841e-08\nEpoch 378/500\n1/1 [==============================] - 0s 2ms/step - loss: 1.1600e-08\nEpoch 379/500\n1/1 [==============================] - 0s 662us/step - loss: 1.1365e-08\nEpoch 380/500\n1/1 [==============================] - 0s 4ms/step - loss: 1.1135e-08\nEpoch 381/500\n1/1 [==============================] - 0s 695us/step - loss: 1.0908e-08\nEpoch 382/500\n1/1 [==============================] - 0s 847us/step - loss: 1.0683e-08\nEpoch 383/500\n1/1 [==============================] - 0s 689us/step - loss: 1.0460e-08\nEpoch 384/500\n1/1 [==============================] - 0s 1ms/step - loss: 1.0242e-08\nEpoch 385/500\n1/1 [==============================] - 0s 690us/step - loss: 1.0030e-08\nEpoch 386/500\n1/1 [==============================] - 0s 533us/step - loss: 9.8379e-09\nEpoch 387/500\n1/1 [==============================] - 0s 3ms/step - loss: 9.6267e-09\nEpoch 388/500\n1/1 [==============================] - 0s 853us/step - loss: 9.4357e-09\nEpoch 389/500\n1/1 [==============================] - 0s 557us/step - loss: 9.2349e-09\nEpoch 390/500\n1/1 [==============================] - 0s 596us/step - loss: 9.0363e-09\nEpoch 391/500\n1/1 [==============================] - 0s 761us/step - loss: 8.8678e-09\nEpoch 392/500\n1/1 [==============================] - 0s 618us/step - loss: 8.6681e-09\nEpoch 393/500\n1/1 [==============================] - 0s 1ms/step - loss: 8.4926e-09\nEpoch 394/500\n1/1 [==============================] - 0s 687us/step - loss: 8.3228e-09\nEpoch 395/500\n1/1 [==============================] - 0s 647us/step - loss: 8.1618e-09\nEpoch 396/500\n1/1 [==============================] - 0s 656us/step - loss: 7.9917e-09\nEpoch 397/500\n1/1 [==============================] - 0s 613us/step - loss: 7.8245e-09\nEpoch 398/500\n1/1 [==============================] - 0s 2ms/step - loss: 7.6755e-09\nEpoch 399/500\n1/1 [==============================] - 0s 830us/step - loss: 7.5232e-09\nEpoch 400/500\n1/1 [==============================] - 0s 698us/step - loss: 7.3653e-09\nEpoch 401/500\n1/1 [==============================] - 0s 859us/step - loss: 7.2042e-09\nEpoch 402/500\n1/1 [==============================] - 0s 859us/step - loss: 7.0642e-09\nEpoch 403/500\n1/1 [==============================] - 0s 785us/step - loss: 6.9232e-09\nEpoch 404/500\n1/1 [==============================] - 0s 762us/step - loss: 6.7836e-09\nEpoch 405/500\n1/1 [==============================] - 0s 972us/step - loss: 6.6477e-09\nEpoch 406/500\n1/1 [==============================] - 0s 792us/step - loss: 6.4999e-09\nEpoch 407/500\n1/1 [==============================] - 0s 841us/step - loss: 6.3668e-09\nEpoch 408/500\n1/1 [==============================] - 0s 814us/step - loss: 6.2425e-09\nEpoch 409/500\n1/1 [==============================] - 0s 965us/step - loss: 6.1121e-09\nEpoch 410/500\n1/1 [==============================] - 0s 1ms/step - loss: 5.9863e-09\nEpoch 411/500\n1/1 [==============================] - 0s 728us/step - loss: 5.8586e-09\nEpoch 412/500\n1/1 [==============================] - 0s 930us/step - loss: 5.7504e-09\nEpoch 413/500\n1/1 [==============================] - 0s 725us/step - loss: 5.6373e-09\nEpoch 414/500\n1/1 [==============================] - 0s 822us/step - loss: 5.5181e-09\nEpoch 415/500\n1/1 [==============================] - 0s 845us/step - loss: 5.3975e-09\nEpoch 416/500\n1/1 [==============================] - 0s 783us/step - loss: 5.2835e-09\nEpoch 417/500\n1/1 [==============================] - 0s 784us/step - loss: 5.1808e-09\nEpoch 418/500\n1/1 [==============================] - 0s 5ms/step - loss: 5.0644e-09\nEpoch 419/500\n1/1 [==============================] - 0s 792us/step - loss: 4.9684e-09\nEpoch 420/500\n1/1 [==============================] - 0s 760us/step - loss: 4.8583e-09\nEpoch 421/500\n1/1 [==============================] - 0s 758us/step - loss: 4.7608e-09\nEpoch 422/500\n1/1 [==============================] - 0s 853us/step - loss: 4.6637e-09\nEpoch 423/500\n1/1 [==============================] - 0s 811us/step - loss: 4.5622e-09\nEpoch 424/500\n1/1 [==============================] - 0s 664us/step - loss: 4.4770e-09\nEpoch 425/500\n1/1 [==============================] - 0s 688us/step - loss: 4.3875e-09\nEpoch 426/500\n1/1 [==============================] - 0s 627us/step - loss: 4.2963e-09\nEpoch 427/500\n1/1 [==============================] - 0s 635us/step - loss: 4.2094e-09\nEpoch 428/500\n1/1 [==============================] - 0s 1ms/step - loss: 4.1228e-09\nEpoch 429/500\n1/1 [==============================] - 0s 604us/step - loss: 4.0344e-09\nEpoch 430/500\n1/1 [==============================] - 0s 557us/step - loss: 3.9482e-09\nEpoch 431/500\n1/1 [==============================] - 0s 620us/step - loss: 3.8791e-09\nEpoch 432/500\n1/1 [==============================] - 0s 608us/step - loss: 3.7953e-09\nEpoch 433/500\n1/1 [==============================] - 0s 807us/step - loss: 3.7272e-09\nEpoch 434/500\n1/1 [==============================] - 0s 695us/step - loss: 3.6414e-09\nEpoch 435/500\n1/1 [==============================] - 0s 804us/step - loss: 3.5750e-09\nEpoch 436/500\n1/1 [==============================] - 0s 663us/step - loss: 3.4947e-09\nEpoch 437/500\n1/1 [==============================] - 0s 615us/step - loss: 3.4313e-09\nEpoch 438/500\n1/1 [==============================] - 0s 559us/step - loss: 3.3644e-09\nEpoch 439/500\n1/1 [==============================] - 0s 2ms/step - loss: 3.2901e-09\nEpoch 440/500\n1/1 [==============================] - 0s 582us/step - loss: 3.2231e-09\nEpoch 441/500\n1/1 [==============================] - 0s 577us/step - loss: 3.1620e-09\nEpoch 442/500\n1/1 [==============================] - 0s 541us/step - loss: 3.1015e-09\nEpoch 443/500\n1/1 [==============================] - 0s 773us/step - loss: 3.0364e-09\nEpoch 444/500\n1/1 [==============================] - 0s 548us/step - loss: 2.9768e-09\nEpoch 445/500\n1/1 [==============================] - 0s 1ms/step - loss: 2.9182e-09\nEpoch 446/500\n1/1 [==============================] - 0s 714us/step - loss: 2.8595e-09\nEpoch 447/500\n1/1 [==============================] - 0s 650us/step - loss: 2.8023e-09\nEpoch 448/500\n1/1 [==============================] - 0s 683us/step - loss: 2.7450e-09\nEpoch 449/500\n1/1 [==============================] - 0s 955us/step - loss: 2.6887e-09\nEpoch 450/500\n1/1 [==============================] - 0s 819us/step - loss: 2.6324e-09\nEpoch 451/500\n1/1 [==============================] - 0s 690us/step - loss: 2.5775e-09\nEpoch 452/500\n1/1 [==============================] - 0s 681us/step - loss: 2.5226e-09\nEpoch 453/500\n1/1 [==============================] - 0s 659us/step - loss: 2.4717e-09\nEpoch 454/500\n1/1 [==============================] - 0s 929us/step - loss: 2.4208e-09\nEpoch 455/500\n1/1 [==============================] - 0s 786us/step - loss: 2.3677e-09\nEpoch 456/500\n1/1 [==============================] - 0s 827us/step - loss: 2.3188e-09\nEpoch 457/500\n1/1 [==============================] - 0s 655us/step - loss: 2.2777e-09\nEpoch 458/500\n1/1 [==============================] - 0s 785us/step - loss: 2.2260e-09\nEpoch 459/500\n1/1 [==============================] - 0s 671us/step - loss: 2.1753e-09\nEpoch 460/500\n1/1 [==============================] - 0s 1ms/step - loss: 2.1357e-09\nEpoch 461/500\n1/1 [==============================] - 0s 658us/step - loss: 2.0891e-09\nEpoch 462/500\n1/1 [==============================] - 0s 754us/step - loss: 2.0409e-09\nEpoch 463/500\n1/1 [==============================] - 0s 717us/step - loss: 2.0070e-09\nEpoch 464/500\n1/1 [==============================] - 0s 642us/step - loss: 1.9601e-09\nEpoch 465/500\n1/1 [==============================] - 0s 807us/step - loss: 1.9244e-09\nEpoch 466/500\n1/1 [==============================] - 0s 877us/step - loss: 1.8851e-09\nEpoch 467/500\n1/1 [==============================] - 0s 787us/step - loss: 1.8499e-09\nEpoch 468/500\n1/1 [==============================] - 0s 936us/step - loss: 1.8048e-09\nEpoch 469/500\n1/1 [==============================] - 0s 911us/step - loss: 1.7708e-09\nEpoch 470/500\n1/1 [==============================] - 0s 931us/step - loss: 1.7328e-09\nEpoch 471/500\n1/1 [==============================] - 0s 836us/step - loss: 1.6994e-09\nEpoch 472/500\n1/1 [==============================] - 0s 907us/step - loss: 1.6642e-09\nEpoch 473/500\n1/1 [==============================] - 0s 882us/step - loss: 1.6254e-09\nEpoch 474/500\n1/1 [==============================] - 0s 1ms/step - loss: 1.5989e-09\nEpoch 475/500\n1/1 [==============================] - 0s 624us/step - loss: 1.5671e-09\nEpoch 476/500\n1/1 [==============================] - 0s 743us/step - loss: 1.5326e-09\nEpoch 477/500\n1/1 [==============================] - 0s 601us/step - loss: 1.5022e-09\nEpoch 478/500\n1/1 [==============================] - 0s 625us/step - loss: 1.4719e-09\nEpoch 479/500\n1/1 [==============================] - 0s 547us/step - loss: 1.4420e-09\nEpoch 480/500\n1/1 [==============================] - 0s 778us/step - loss: 1.4105e-09\nEpoch 481/500\n1/1 [==============================] - 0s 2ms/step - loss: 1.3780e-09\nEpoch 482/500\n1/1 [==============================] - 0s 614us/step - loss: 1.3558e-09\nEpoch 483/500\n1/1 [==============================] - 0s 666us/step - loss: 1.3280e-09\nEpoch 484/500\n1/1 [==============================] - 0s 690us/step - loss: 1.2986e-09\nEpoch 485/500\n1/1 [==============================] - 0s 778us/step - loss: 1.2771e-09\nEpoch 486/500\n1/1 [==============================] - 0s 3ms/step - loss: 1.2485e-09\nEpoch 487/500\n1/1 [==============================] - 0s 598us/step - loss: 1.2275e-09\nEpoch 488/500\n1/1 [==============================] - 0s 765us/step - loss: 1.1994e-09\nEpoch 489/500\n1/1 [==============================] - 0s 719us/step - loss: 1.1787e-09\nEpoch 490/500\n1/1 [==============================] - 0s 757us/step - loss: 1.1527e-09\nEpoch 491/500\n1/1 [==============================] - 0s 2ms/step - loss: 1.1254e-09\nEpoch 492/500\n1/1 [==============================] - 0s 707us/step - loss: 1.1055e-09\nEpoch 493/500\n1/1 [==============================] - 0s 894us/step - loss: 1.0809e-09\nEpoch 494/500\n1/1 [==============================] - 0s 651us/step - loss: 1.0622e-09\nEpoch 495/500\n1/1 [==============================] - 0s 1ms/step - loss: 1.0417e-09\nEpoch 496/500\n1/1 [==============================] - 0s 661us/step - loss: 1.0233e-09\nEpoch 497/500\n1/1 [==============================] - 0s 510us/step - loss: 1.0052e-09\nEpoch 498/500\n1/1 [==============================] - 0s 596us/step - loss: 9.8175e-10\nEpoch 499/500\n1/1 [==============================] - 0s 617us/step - loss: 9.6397e-10\nEpoch 500/500\n1/1 [==============================] - 0s 2ms/step - loss: 9.4640e-10\n"
        },
        {
          "output_type": "execute_result",
          "data": {
            "text/plain": "<tensorflow.python.keras.callbacks.History at 0x7fd8f0264be0>"
          },
          "metadata": {},
          "execution_count": 10
        }
      ]
    },
    {
      "cell_type": "markdown",
      "metadata": {
        "colab_type": "text",
        "id": "kaFIr71H2OZ-"
      },
      "source": [
        "Ok, now you have a model that has been trained to learn the relationship between X and Y. You can use the **model.predict** method to have it figure out the Y for a previously unknown X. So, for example, if X = 10, what do you think Y will be? Take a guess before you run this code:"
      ]
    },
    {
      "cell_type": "code",
      "metadata": {
        "colab_type": "code",
        "id": "oxNzL4lS2Gui",
        "colab": {},
        "tags": []
      },
      "source": [
        "print(model.predict([20.0]))"
      ],
      "execution_count": 11,
      "outputs": [
        {
          "output_type": "stream",
          "name": "stdout",
          "text": "[[38.999775]]\n"
        }
      ]
    },
    {
      "cell_type": "markdown",
      "metadata": {
        "colab_type": "text",
        "id": "btF2CSFH2iEX"
      },
      "source": [
        "You might have thought 19, right? But it ended up being a little under. Why do you think that is? \n",
        "\n",
        "Remember that neural networks deal with probabilities, so given the data that we fed the NN with, it calculated that there is a very high probability that the relationship between X and Y is Y=2X-1, but with only 6 data points we can't know for sure. As a result, the result for 10 is very close to 19, but not necessarily 19. \n",
        "\n",
        "As you work with neural networks, you'll see this pattern recurring. You will almost always deal with probabilities, not certainties, and will do a little bit of coding to figure out what the result is based on the probabilities, particularly when it comes to classification.\n"
      ]
    }
  ]
}